{
 "cells": [
  {
   "cell_type": "markdown",
   "id": "a8e42f10",
   "metadata": {},
   "source": [
    "# Python Tutorial\n",
    "## INeuron"
   ]
  },
  {
   "cell_type": "markdown",
   "id": "4ee095d0",
   "metadata": {},
   "source": [
    "### Data Types\n",
    "#### - Strings, Numbers, Floating Values"
   ]
  },
  {
   "cell_type": "code",
   "execution_count": 1,
   "id": "ec6586ca",
   "metadata": {},
   "outputs": [
    {
     "data": {
      "text/plain": [
       "2"
      ]
     },
     "execution_count": 1,
     "metadata": {},
     "output_type": "execute_result"
    }
   ],
   "source": [
    "1+1"
   ]
  },
  {
   "cell_type": "markdown",
   "id": "d6dfc9e5",
   "metadata": {},
   "source": [
    "Hello"
   ]
  },
  {
   "cell_type": "code",
   "execution_count": 2,
   "id": "090c9862",
   "metadata": {},
   "outputs": [
    {
     "data": {
      "text/plain": [
       "0"
      ]
     },
     "execution_count": 2,
     "metadata": {},
     "output_type": "execute_result"
    }
   ],
   "source": [
    "10%2"
   ]
  },
  {
   "cell_type": "code",
   "execution_count": 3,
   "id": "c2704ad7",
   "metadata": {
    "scrolled": true
   },
   "outputs": [
    {
     "data": {
      "text/plain": [
       "100"
      ]
     },
     "execution_count": 3,
     "metadata": {},
     "output_type": "execute_result"
    }
   ],
   "source": [
    "10**2"
   ]
  },
  {
   "cell_type": "markdown",
   "id": "5889a0a0",
   "metadata": {},
   "source": [
    "### Check Data Types"
   ]
  },
  {
   "cell_type": "code",
   "execution_count": 4,
   "id": "caee406b",
   "metadata": {},
   "outputs": [
    {
     "data": {
      "text/plain": [
       "int"
      ]
     },
     "execution_count": 4,
     "metadata": {},
     "output_type": "execute_result"
    }
   ],
   "source": [
    "type(1)"
   ]
  },
  {
   "cell_type": "code",
   "execution_count": 5,
   "id": "c6079577",
   "metadata": {},
   "outputs": [
    {
     "data": {
      "text/plain": [
       "str"
      ]
     },
     "execution_count": 5,
     "metadata": {},
     "output_type": "execute_result"
    }
   ],
   "source": [
    "type(\"hello\")"
   ]
  },
  {
   "cell_type": "code",
   "execution_count": 6,
   "id": "da4bd860",
   "metadata": {},
   "outputs": [
    {
     "data": {
      "text/plain": [
       "float"
      ]
     },
     "execution_count": 6,
     "metadata": {},
     "output_type": "execute_result"
    }
   ],
   "source": [
    "type(5.26)"
   ]
  },
  {
   "cell_type": "markdown",
   "id": "7152ce9f",
   "metadata": {},
   "source": [
    "### Strings"
   ]
  },
  {
   "cell_type": "code",
   "execution_count": 7,
   "id": "845632a8",
   "metadata": {},
   "outputs": [
    {
     "data": {
      "text/plain": [
       "'Hello'"
      ]
     },
     "execution_count": 7,
     "metadata": {},
     "output_type": "execute_result"
    }
   ],
   "source": [
    "\"Hello\""
   ]
  },
  {
   "cell_type": "code",
   "execution_count": 8,
   "id": "915101f1",
   "metadata": {},
   "outputs": [
    {
     "data": {
      "text/plain": [
       "str"
      ]
     },
     "execution_count": 8,
     "metadata": {},
     "output_type": "execute_result"
    }
   ],
   "source": [
    "type(\"hello\")"
   ]
  },
  {
   "cell_type": "markdown",
   "id": "52ae1d54",
   "metadata": {},
   "source": [
    "### Variable Assignment"
   ]
  },
  {
   "cell_type": "code",
   "execution_count": 9,
   "id": "10450358",
   "metadata": {},
   "outputs": [
    {
     "data": {
      "text/plain": [
       "6"
      ]
     },
     "execution_count": 9,
     "metadata": {},
     "output_type": "execute_result"
    }
   ],
   "source": [
    "len('Suhail')"
   ]
  },
  {
   "cell_type": "code",
   "execution_count": 10,
   "id": "88c51dba",
   "metadata": {},
   "outputs": [],
   "source": [
    "first_name = 'Suhail'\n",
    "last_name = 'Fazal'"
   ]
  },
  {
   "cell_type": "code",
   "execution_count": 11,
   "id": "552f12e5",
   "metadata": {},
   "outputs": [
    {
     "name": "stdout",
     "output_type": "stream",
     "text": [
      "My first name is Suhail and last name is Fazal\n"
     ]
    }
   ],
   "source": [
    "print(\"My first name is {} and last name is {}\".format(first_name, last_name))"
   ]
  },
  {
   "cell_type": "code",
   "execution_count": 12,
   "id": "60937f0d",
   "metadata": {},
   "outputs": [
    {
     "name": "stdout",
     "output_type": "stream",
     "text": [
      "My first name is Suhail and last name is Fazal\n"
     ]
    }
   ],
   "source": [
    "print(\"My first name is {first} and last name is {last}\".format(last = last_name, first = first_name))"
   ]
  },
  {
   "cell_type": "code",
   "execution_count": 13,
   "id": "77d825dc",
   "metadata": {},
   "outputs": [
    {
     "data": {
      "text/plain": [
       "list"
      ]
     },
     "execution_count": 13,
     "metadata": {},
     "output_type": "execute_result"
    }
   ],
   "source": [
    "type([1,2,3.5,-4,'5'])"
   ]
  },
  {
   "cell_type": "code",
   "execution_count": 14,
   "id": "a8e573bd",
   "metadata": {},
   "outputs": [],
   "source": [
    "my_str = \"Suhail2021\""
   ]
  },
  {
   "cell_type": "code",
   "execution_count": 15,
   "id": "8daa2172",
   "metadata": {},
   "outputs": [
    {
     "data": {
      "text/plain": [
       "True"
      ]
     },
     "execution_count": 15,
     "metadata": {},
     "output_type": "execute_result"
    }
   ],
   "source": [
    "#### Check alpha numeric\n",
    "\n",
    "my_str.isalnum()"
   ]
  },
  {
   "cell_type": "markdown",
   "id": "7159c6d8",
   "metadata": {},
   "source": [
    "### Boolean - True | False\n",
    "### Logical Operators - And, Or, Not"
   ]
  },
  {
   "cell_type": "markdown",
   "id": "e6ebbc85",
   "metadata": {},
   "source": [
    "##### Lists:"
   ]
  },
  {
   "cell_type": "markdown",
   "id": "1bd6eb1c",
   "metadata": {},
   "source": [
    "List is a data structure, mutable, or changeable, ordered sequence of elements. each value inside a list is called an item.\n",
    "\n",
    "Strings are characters between quotes and lists are defined by having values in between square brackets []"
   ]
  },
  {
   "cell_type": "code",
   "execution_count": 16,
   "id": "702b4536",
   "metadata": {},
   "outputs": [
    {
     "data": {
      "text/plain": [
       "list"
      ]
     },
     "execution_count": 16,
     "metadata": {},
     "output_type": "execute_result"
    }
   ],
   "source": [
    "type([])"
   ]
  },
  {
   "cell_type": "code",
   "execution_count": 17,
   "id": "9bb9ce08",
   "metadata": {},
   "outputs": [],
   "source": [
    "List = ['Science' , 'Maths', 100, 200, 300]"
   ]
  },
  {
   "cell_type": "code",
   "execution_count": 18,
   "id": "310b4fc8",
   "metadata": {},
   "outputs": [
    {
     "data": {
      "text/plain": [
       "list"
      ]
     },
     "execution_count": 18,
     "metadata": {},
     "output_type": "execute_result"
    }
   ],
   "source": [
    "type(List)"
   ]
  },
  {
   "cell_type": "code",
   "execution_count": 19,
   "id": "ddde4518",
   "metadata": {},
   "outputs": [
    {
     "data": {
      "text/plain": [
       "'Science'"
      ]
     },
     "execution_count": 19,
     "metadata": {},
     "output_type": "execute_result"
    }
   ],
   "source": [
    "List[0]"
   ]
  },
  {
   "cell_type": "markdown",
   "id": "026c2668",
   "metadata": {},
   "source": [
    "#### Append:"
   ]
  },
  {
   "cell_type": "markdown",
   "id": "73b3609d",
   "metadata": {},
   "source": [
    "#### Adds elements in the list, adds at the end of the list"
   ]
  },
  {
   "cell_type": "code",
   "execution_count": 20,
   "id": "d103262f",
   "metadata": {},
   "outputs": [],
   "source": [
    "List.append(\"Suhail\")"
   ]
  },
  {
   "cell_type": "code",
   "execution_count": 21,
   "id": "b83fdacc",
   "metadata": {},
   "outputs": [
    {
     "data": {
      "text/plain": [
       "['Science', 'Maths', 100, 200, 300, 'Suhail']"
      ]
     },
     "execution_count": 21,
     "metadata": {},
     "output_type": "execute_result"
    }
   ],
   "source": [
    "List"
   ]
  },
  {
   "cell_type": "code",
   "execution_count": 22,
   "id": "77940fb2",
   "metadata": {},
   "outputs": [
    {
     "data": {
      "text/plain": [
       "'Suhail'"
      ]
     },
     "execution_count": 22,
     "metadata": {},
     "output_type": "execute_result"
    }
   ],
   "source": [
    "List [5]"
   ]
  },
  {
   "cell_type": "code",
   "execution_count": 23,
   "id": "bbf638e4",
   "metadata": {},
   "outputs": [],
   "source": [
    "List.append([\"Suhail\", \"Fazal\"])\n",
    "##### Adds a nested list within a list."
   ]
  },
  {
   "cell_type": "code",
   "execution_count": 24,
   "id": "3bac244a",
   "metadata": {},
   "outputs": [
    {
     "data": {
      "text/plain": [
       "['Science', 'Maths', 100, 200, 300, 'Suhail', ['Suhail', 'Fazal']]"
      ]
     },
     "execution_count": 24,
     "metadata": {},
     "output_type": "execute_result"
    }
   ],
   "source": [
    "List"
   ]
  },
  {
   "cell_type": "markdown",
   "id": "f17707c9",
   "metadata": {},
   "source": [
    "#### Insert in a specific order"
   ]
  },
  {
   "cell_type": "code",
   "execution_count": 25,
   "id": "252ba2ed",
   "metadata": {},
   "outputs": [],
   "source": [
    "List.insert(1,\"History\")"
   ]
  },
  {
   "cell_type": "code",
   "execution_count": 26,
   "id": "e4b58b0e",
   "metadata": {},
   "outputs": [
    {
     "data": {
      "text/plain": [
       "['Science', 'History', 'Maths', 100, 200, 300, 'Suhail', ['Suhail', 'Fazal']]"
      ]
     },
     "execution_count": 26,
     "metadata": {},
     "output_type": "execute_result"
    }
   ],
   "source": [
    "List"
   ]
  },
  {
   "cell_type": "code",
   "execution_count": 27,
   "id": "fdc3271d",
   "metadata": {},
   "outputs": [],
   "source": [
    "List.insert(2,500)"
   ]
  },
  {
   "cell_type": "code",
   "execution_count": 28,
   "id": "92c63908",
   "metadata": {},
   "outputs": [
    {
     "data": {
      "text/plain": [
       "['Science',\n",
       " 'History',\n",
       " 500,\n",
       " 'Maths',\n",
       " 100,\n",
       " 200,\n",
       " 300,\n",
       " 'Suhail',\n",
       " ['Suhail', 'Fazal']]"
      ]
     },
     "execution_count": 28,
     "metadata": {},
     "output_type": "execute_result"
    }
   ],
   "source": [
    "List"
   ]
  },
  {
   "cell_type": "markdown",
   "id": "438fe992",
   "metadata": {},
   "source": [
    "#### Extend Method"
   ]
  },
  {
   "cell_type": "code",
   "execution_count": 29,
   "id": "7d7a5f1c",
   "metadata": {},
   "outputs": [],
   "source": [
    "List.extend([29,30])"
   ]
  },
  {
   "cell_type": "code",
   "execution_count": 30,
   "id": "034598c1",
   "metadata": {},
   "outputs": [
    {
     "data": {
      "text/plain": [
       "['Science',\n",
       " 'History',\n",
       " 500,\n",
       " 'Maths',\n",
       " 100,\n",
       " 200,\n",
       " 300,\n",
       " 'Suhail',\n",
       " ['Suhail', 'Fazal'],\n",
       " 29,\n",
       " 30]"
      ]
     },
     "execution_count": 30,
     "metadata": {},
     "output_type": "execute_result"
    }
   ],
   "source": [
    "List"
   ]
  },
  {
   "cell_type": "code",
   "execution_count": 31,
   "id": "dc147472",
   "metadata": {},
   "outputs": [],
   "source": [
    "List.extend([500, 'INR'])"
   ]
  },
  {
   "cell_type": "code",
   "execution_count": 32,
   "id": "735b3452",
   "metadata": {},
   "outputs": [
    {
     "data": {
      "text/plain": [
       "['Science',\n",
       " 'History',\n",
       " 500,\n",
       " 'Maths',\n",
       " 100,\n",
       " 200,\n",
       " 300,\n",
       " 'Suhail',\n",
       " ['Suhail', 'Fazal'],\n",
       " 29,\n",
       " 30,\n",
       " 500,\n",
       " 'INR']"
      ]
     },
     "execution_count": 32,
     "metadata": {},
     "output_type": "execute_result"
    }
   ],
   "source": [
    "List"
   ]
  },
  {
   "cell_type": "markdown",
   "id": "55446795",
   "metadata": {},
   "source": [
    "#### Other operations to perform in a List"
   ]
  },
  {
   "cell_type": "code",
   "execution_count": 34,
   "id": "18926305",
   "metadata": {},
   "outputs": [],
   "source": [
    "dummy = [1,2,3,5,4,8]"
   ]
  },
  {
   "cell_type": "code",
   "execution_count": 35,
   "id": "abf52f9f",
   "metadata": {},
   "outputs": [
    {
     "data": {
      "text/plain": [
       "23"
      ]
     },
     "execution_count": 35,
     "metadata": {},
     "output_type": "execute_result"
    }
   ],
   "source": [
    "sum(dummy)"
   ]
  },
  {
   "cell_type": "markdown",
   "id": "969cea3a",
   "metadata": {},
   "source": [
    "#### Pop Method"
   ]
  },
  {
   "cell_type": "code",
   "execution_count": 36,
   "id": "95bef234",
   "metadata": {},
   "outputs": [
    {
     "data": {
      "text/plain": [
       "8"
      ]
     },
     "execution_count": 36,
     "metadata": {},
     "output_type": "execute_result"
    }
   ],
   "source": [
    "dummy.pop()"
   ]
  },
  {
   "cell_type": "code",
   "execution_count": 37,
   "id": "f1752e7f",
   "metadata": {},
   "outputs": [
    {
     "data": {
      "text/plain": [
       "[1, 2, 3, 5, 4]"
      ]
     },
     "execution_count": 37,
     "metadata": {},
     "output_type": "execute_result"
    }
   ],
   "source": [
    "dummy"
   ]
  },
  {
   "cell_type": "code",
   "execution_count": 38,
   "id": "bc5bd13b",
   "metadata": {},
   "outputs": [
    {
     "data": {
      "text/plain": [
       "1"
      ]
     },
     "execution_count": 38,
     "metadata": {},
     "output_type": "execute_result"
    }
   ],
   "source": [
    "dummy.pop(0)"
   ]
  },
  {
   "cell_type": "code",
   "execution_count": null,
   "id": "bbbd4fe0",
   "metadata": {},
   "outputs": [],
   "source": [
    "dummy"
   ]
  },
  {
   "cell_type": "markdown",
   "id": "2dd093ee",
   "metadata": {},
   "source": [
    "#### Count Method : Calculates no of occurances of given element in a list."
   ]
  },
  {
   "cell_type": "code",
   "execution_count": null,
   "id": "5087c785",
   "metadata": {},
   "outputs": [],
   "source": [
    "dummy1 = [1,2,2,2,55,66,77,86,86,99,99,100]"
   ]
  },
  {
   "cell_type": "code",
   "execution_count": null,
   "id": "72e24760",
   "metadata": {},
   "outputs": [],
   "source": [
    "dummy1"
   ]
  },
  {
   "cell_type": "code",
   "execution_count": null,
   "id": "c167bc72",
   "metadata": {},
   "outputs": [],
   "source": [
    "dummy1.count(2)"
   ]
  },
  {
   "cell_type": "code",
   "execution_count": 8,
   "id": "f6558b6a",
   "metadata": {},
   "outputs": [],
   "source": [
    "lst = [1,1,2,3,4,5]"
   ]
  },
  {
   "cell_type": "code",
   "execution_count": 3,
   "id": "e63cca3d",
   "metadata": {},
   "outputs": [
    {
     "data": {
      "text/plain": [
       "0"
      ]
     },
     "execution_count": 3,
     "metadata": {},
     "output_type": "execute_result"
    }
   ],
   "source": [
    "lst.count(0)"
   ]
  },
  {
   "cell_type": "code",
   "execution_count": 4,
   "id": "09957811",
   "metadata": {},
   "outputs": [
    {
     "data": {
      "text/plain": [
       "2"
      ]
     },
     "execution_count": 4,
     "metadata": {},
     "output_type": "execute_result"
    }
   ],
   "source": [
    "lst.count(1)"
   ]
  },
  {
   "cell_type": "code",
   "execution_count": 5,
   "id": "0a7f465c",
   "metadata": {},
   "outputs": [
    {
     "data": {
      "text/plain": [
       "1"
      ]
     },
     "execution_count": 5,
     "metadata": {},
     "output_type": "execute_result"
    }
   ],
   "source": [
    "lst.count(2)"
   ]
  },
  {
   "cell_type": "code",
   "execution_count": 6,
   "id": "028fe903",
   "metadata": {},
   "outputs": [
    {
     "data": {
      "text/plain": [
       "0"
      ]
     },
     "execution_count": 6,
     "metadata": {},
     "output_type": "execute_result"
    }
   ],
   "source": [
    "lst.index(1)"
   ]
  },
  {
   "cell_type": "code",
   "execution_count": 10,
   "id": "5fa17a26",
   "metadata": {},
   "outputs": [
    {
     "data": {
      "text/plain": [
       "3"
      ]
     },
     "execution_count": 10,
     "metadata": {},
     "output_type": "execute_result"
    }
   ],
   "source": [
    "#### .index(value, start, stop)\n",
    "\n",
    "lst.index(3,0,4)"
   ]
  },
  {
   "cell_type": "code",
   "execution_count": null,
   "id": "d9cdf0f4",
   "metadata": {},
   "outputs": [],
   "source": []
  }
 ],
 "metadata": {
  "kernelspec": {
   "display_name": "Python 3",
   "language": "python",
   "name": "python3"
  },
  "language_info": {
   "codemirror_mode": {
    "name": "ipython",
    "version": 3
   },
   "file_extension": ".py",
   "mimetype": "text/x-python",
   "name": "python",
   "nbconvert_exporter": "python",
   "pygments_lexer": "ipython3",
   "version": "3.8.8"
  }
 },
 "nbformat": 4,
 "nbformat_minor": 5
}
