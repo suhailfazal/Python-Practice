{
 "cells": [
  {
   "cell_type": "code",
   "execution_count": 1,
   "id": "a5999144",
   "metadata": {},
   "outputs": [],
   "source": [
    "def evenorodd(num):\n",
    "    if num%2 == 0:\n",
    "        return (\"The number {} is even\").format(num)\n",
    "    else:\n",
    "        return (\"The number {} is odd\").format(num)"
   ]
  },
  {
   "cell_type": "code",
   "execution_count": 2,
   "id": "f750d946",
   "metadata": {},
   "outputs": [
    {
     "data": {
      "text/plain": [
       "'The number 27 is odd'"
      ]
     },
     "execution_count": 2,
     "metadata": {},
     "output_type": "execute_result"
    }
   ],
   "source": [
    "evenorodd(27)"
   ]
  },
  {
   "cell_type": "code",
   "execution_count": 3,
   "id": "a6038751",
   "metadata": {},
   "outputs": [],
   "source": [
    "lst = [1,2,3,4,5,6,7,8,9,24,56,78,87,99,100]\n",
    "#iterating through each number for output is time consuming, use map() function to do this in one shot"
   ]
  },
  {
   "cell_type": "code",
   "execution_count": 4,
   "id": "5bba19fb",
   "metadata": {},
   "outputs": [
    {
     "data": {
      "text/plain": [
       "<map at 0x1f4107f7760>"
      ]
     },
     "execution_count": 4,
     "metadata": {},
     "output_type": "execute_result"
    }
   ],
   "source": [
    "map(evenorodd, lst)"
   ]
  },
  {
   "cell_type": "code",
   "execution_count": 5,
   "id": "304848d0",
   "metadata": {},
   "outputs": [
    {
     "data": {
      "text/plain": [
       "['The number 1 is odd',\n",
       " 'The number 2 is even',\n",
       " 'The number 3 is odd',\n",
       " 'The number 4 is even',\n",
       " 'The number 5 is odd',\n",
       " 'The number 6 is even',\n",
       " 'The number 7 is odd',\n",
       " 'The number 8 is even',\n",
       " 'The number 9 is odd',\n",
       " 'The number 24 is even',\n",
       " 'The number 56 is even',\n",
       " 'The number 78 is even',\n",
       " 'The number 87 is odd',\n",
       " 'The number 99 is odd',\n",
       " 'The number 100 is even']"
      ]
     },
     "execution_count": 5,
     "metadata": {},
     "output_type": "execute_result"
    }
   ],
   "source": [
    "list(map(evenorodd, lst))"
   ]
  },
  {
   "cell_type": "code",
   "execution_count": null,
   "id": "05a2e367",
   "metadata": {},
   "outputs": [],
   "source": []
  }
 ],
 "metadata": {
  "kernelspec": {
   "display_name": "Python 3 (ipykernel)",
   "language": "python",
   "name": "python3"
  },
  "language_info": {
   "codemirror_mode": {
    "name": "ipython",
    "version": 3
   },
   "file_extension": ".py",
   "mimetype": "text/x-python",
   "name": "python",
   "nbconvert_exporter": "python",
   "pygments_lexer": "ipython3",
   "version": "3.9.7"
  }
 },
 "nbformat": 4,
 "nbformat_minor": 5
}
