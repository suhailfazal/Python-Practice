{
 "cells": [
  {
   "cell_type": "code",
   "execution_count": 17,
   "id": "5aa77881",
   "metadata": {},
   "outputs": [],
   "source": [
    "num = 77"
   ]
  },
  {
   "cell_type": "code",
   "execution_count": 18,
   "id": "ffccf584",
   "metadata": {},
   "outputs": [
    {
     "data": {
      "text/plain": [
       "77"
      ]
     },
     "execution_count": 18,
     "metadata": {},
     "output_type": "execute_result"
    }
   ],
   "source": [
    "num"
   ]
  },
  {
   "cell_type": "code",
   "execution_count": 19,
   "id": "8c974cb9",
   "metadata": {},
   "outputs": [
    {
     "name": "stdout",
     "output_type": "stream",
     "text": [
      "The Number is Odd\n"
     ]
    }
   ],
   "source": [
    "if num%2==0:\n",
    "    print(\"The Number is Even\")\n",
    "else:\n",
    "    print(\"The Number is Odd\")"
   ]
  },
  {
   "cell_type": "code",
   "execution_count": 20,
   "id": "d7f49ca9",
   "metadata": {},
   "outputs": [],
   "source": [
    "num = 13"
   ]
  },
  {
   "cell_type": "code",
   "execution_count": 21,
   "id": "6774099c",
   "metadata": {},
   "outputs": [
    {
     "name": "stdout",
     "output_type": "stream",
     "text": [
      "The Number is Odd\n"
     ]
    }
   ],
   "source": [
    "if num%2==0:\n",
    "    print(\"The Number is Even\")\n",
    "else:\n",
    "    print(\"The Number is Odd\")"
   ]
  },
  {
   "cell_type": "code",
   "execution_count": 15,
   "id": "1c7baaf1",
   "metadata": {},
   "outputs": [],
   "source": [
    "#defining a function with \"even_odd\" and wrapping if conditions inside the function.\n",
    "def even_odd(num):\n",
    "    if num%2==0:\n",
    "        print(\"The Number is Even\")\n",
    "    else:\n",
    "        print(\"The Number is Odd\")"
   ]
  },
  {
   "cell_type": "code",
   "execution_count": 16,
   "id": "3ed30fe0",
   "metadata": {},
   "outputs": [
    {
     "name": "stdout",
     "output_type": "stream",
     "text": [
      "The Number is Odd\n"
     ]
    }
   ],
   "source": [
    "even_odd(1)"
   ]
  },
  {
   "cell_type": "code",
   "execution_count": 17,
   "id": "b2498122",
   "metadata": {},
   "outputs": [
    {
     "name": "stdout",
     "output_type": "stream",
     "text": [
      "The Number is Odd\n"
     ]
    }
   ],
   "source": [
    "even_odd(19)"
   ]
  },
  {
   "cell_type": "code",
   "execution_count": 18,
   "id": "44fe37f9",
   "metadata": {},
   "outputs": [
    {
     "name": "stdout",
     "output_type": "stream",
     "text": [
      "The Number is Even\n"
     ]
    }
   ],
   "source": [
    "even_odd(8)"
   ]
  },
  {
   "cell_type": "code",
   "execution_count": 22,
   "id": "913b9198",
   "metadata": {},
   "outputs": [],
   "source": [
    "#print vs return\n",
    "def hello_world():\n",
    "    print(\"Hello all\")"
   ]
  },
  {
   "cell_type": "code",
   "execution_count": 23,
   "id": "b26322e6",
   "metadata": {},
   "outputs": [
    {
     "name": "stdout",
     "output_type": "stream",
     "text": [
      "Hello all\n"
     ]
    }
   ],
   "source": [
    "hello_world()"
   ]
  },
  {
   "cell_type": "code",
   "execution_count": 30,
   "id": "f570b2be",
   "metadata": {},
   "outputs": [],
   "source": [
    "#print vs return\n",
    "def hello_you():\n",
    "    print(\"Hello all\")"
   ]
  },
  {
   "cell_type": "code",
   "execution_count": 31,
   "id": "d1d55fc7",
   "metadata": {},
   "outputs": [
    {
     "name": "stdout",
     "output_type": "stream",
     "text": [
      "Hello all\n"
     ]
    }
   ],
   "source": [
    "val = hello_you()"
   ]
  },
  {
   "cell_type": "code",
   "execution_count": 34,
   "id": "73683530",
   "metadata": {},
   "outputs": [],
   "source": [
    "#print vs return\n",
    "def hello_you():\n",
    "    return \"Hello all\""
   ]
  },
  {
   "cell_type": "code",
   "execution_count": 35,
   "id": "e1b79fc9",
   "metadata": {},
   "outputs": [],
   "source": [
    "val = hello_you()"
   ]
  },
  {
   "cell_type": "code",
   "execution_count": 36,
   "id": "3e66eaf5",
   "metadata": {},
   "outputs": [
    {
     "data": {
      "text/plain": [
       "'Hello all'"
      ]
     },
     "execution_count": 36,
     "metadata": {},
     "output_type": "execute_result"
    }
   ],
   "source": [
    "val"
   ]
  },
  {
   "cell_type": "code",
   "execution_count": 37,
   "id": "37b16753",
   "metadata": {},
   "outputs": [],
   "source": [
    "def add_number (num1, num2):\n",
    "    return num1+num2"
   ]
  },
  {
   "cell_type": "code",
   "execution_count": 39,
   "id": "4e09ab35",
   "metadata": {},
   "outputs": [],
   "source": [
    "val=add_number(15,30)"
   ]
  },
  {
   "cell_type": "code",
   "execution_count": 40,
   "id": "5054495c",
   "metadata": {},
   "outputs": [
    {
     "data": {
      "text/plain": [
       "45"
      ]
     },
     "execution_count": 40,
     "metadata": {},
     "output_type": "execute_result"
    }
   ],
   "source": [
    "val"
   ]
  },
  {
   "cell_type": "code",
   "execution_count": 1,
   "id": "7608d461",
   "metadata": {},
   "outputs": [],
   "source": [
    "# Positional Arguement\n",
    "\n",
    "def hello(name, age):\n",
    "    print(\"My name is {} and my age is {}\".format(name,age))"
   ]
  },
  {
   "cell_type": "code",
   "execution_count": 2,
   "id": "a950064e",
   "metadata": {},
   "outputs": [
    {
     "name": "stdout",
     "output_type": "stream",
     "text": [
      "My name is John and my age is 25\n"
     ]
    }
   ],
   "source": [
    "hello('John','25')"
   ]
  },
  {
   "cell_type": "code",
   "execution_count": 3,
   "id": "4c7ef75d",
   "metadata": {},
   "outputs": [],
   "source": [
    "# Keyword arguement, age with a value is a keyword arguement\n",
    "def hellothere(name, age=20):\n",
    "    print(\"My name is {} and my age is {}\".format(name,age))"
   ]
  },
  {
   "cell_type": "code",
   "execution_count": 5,
   "id": "8fe2ce5d",
   "metadata": {},
   "outputs": [
    {
     "name": "stdout",
     "output_type": "stream",
     "text": [
      "My name is John and my age is 20\n"
     ]
    }
   ],
   "source": [
    "hellothere('John')"
   ]
  },
  {
   "cell_type": "code",
   "execution_count": 8,
   "id": "138187e9",
   "metadata": {},
   "outputs": [],
   "source": [
    "#Print Positional arguements and keyword arguements\n",
    "\n",
    "def hello(*args,**kwargs):\n",
    "    print(args)\n",
    "    print(kwargs)"
   ]
  },
  {
   "cell_type": "code",
   "execution_count": 9,
   "id": "fa3c41a5",
   "metadata": {},
   "outputs": [
    {
     "name": "stdout",
     "output_type": "stream",
     "text": [
      "('John', 'Wick')\n",
      "{'age': 58, 'dob': 1964}\n"
     ]
    }
   ],
   "source": [
    "hello('John' ,'Wick' , age = 58, dob=1964)"
   ]
  },
  {
   "cell_type": "code",
   "execution_count": 10,
   "id": "b75ec89d",
   "metadata": {},
   "outputs": [],
   "source": [
    "lst = ['John' ,'Wick']\n",
    "dict_args = {'age': 58, 'dob': 1964}"
   ]
  },
  {
   "cell_type": "code",
   "execution_count": 11,
   "id": "0016a32c",
   "metadata": {},
   "outputs": [
    {
     "data": {
      "text/plain": [
       "{'age': 58, 'dob': 1964}"
      ]
     },
     "execution_count": 11,
     "metadata": {},
     "output_type": "execute_result"
    }
   ],
   "source": [
    "dict_args"
   ]
  },
  {
   "cell_type": "code",
   "execution_count": 12,
   "id": "db3769b7",
   "metadata": {},
   "outputs": [
    {
     "data": {
      "text/plain": [
       "['John', 'Wick']"
      ]
     },
     "execution_count": 12,
     "metadata": {},
     "output_type": "execute_result"
    }
   ],
   "source": [
    "lst"
   ]
  },
  {
   "cell_type": "code",
   "execution_count": 13,
   "id": "2e7d920b",
   "metadata": {},
   "outputs": [
    {
     "data": {
      "text/plain": [
       "(['John', 'Wick'], {'age': 58, 'dob': 1964})"
      ]
     },
     "execution_count": 13,
     "metadata": {},
     "output_type": "execute_result"
    }
   ],
   "source": [
    "lst, dict_args"
   ]
  },
  {
   "cell_type": "code",
   "execution_count": 14,
   "id": "d7ce3f01",
   "metadata": {},
   "outputs": [
    {
     "data": {
      "text/plain": [
       "{'age': 58, 'dob': 1964}"
      ]
     },
     "execution_count": 14,
     "metadata": {},
     "output_type": "execute_result"
    }
   ],
   "source": [
    "lst\n",
    "dict_args"
   ]
  },
  {
   "cell_type": "code",
   "execution_count": 15,
   "id": "0c4ba253",
   "metadata": {},
   "outputs": [
    {
     "name": "stdout",
     "output_type": "stream",
     "text": [
      "(['John', 'Wick'], {'age': 58, 'dob': 1964})\n",
      "{}\n"
     ]
    }
   ],
   "source": [
    "hello(lst,dict_args)"
   ]
  },
  {
   "cell_type": "code",
   "execution_count": 16,
   "id": "ce78ec4d",
   "metadata": {},
   "outputs": [
    {
     "name": "stdout",
     "output_type": "stream",
     "text": [
      "('John', 'Wick')\n",
      "{'age': 58, 'dob': 1964}\n"
     ]
    }
   ],
   "source": [
    "# specify positional arguement with \"*\" and keyword arguements with \"**\"\n",
    "hello(*lst,**dict_args)"
   ]
  },
  {
   "cell_type": "code",
   "execution_count": 84,
   "id": "1a27bbff",
   "metadata": {},
   "outputs": [],
   "source": [
    "lst = [1,2,3,4,5,6,7,8,9,10]\n"
   ]
  },
  {
   "cell_type": "code",
   "execution_count": 87,
   "id": "3700850a",
   "metadata": {},
   "outputs": [],
   "source": [
    "def evenoddsum(lst):\n",
    "    even_sum = 0\n",
    "    odd_sum = 0\n",
    "    for i in lst:\n",
    "        if i%2==0:\n",
    "            even_sum = even_sum + i\n",
    "        else:\n",
    "            odd_sum = odd_sum + i\n",
    "    return even_sum, odd_sum"
   ]
  },
  {
   "cell_type": "code",
   "execution_count": 90,
   "id": "738b9ad3",
   "metadata": {},
   "outputs": [
    {
     "data": {
      "text/plain": [
       "(30, 25)"
      ]
     },
     "execution_count": 90,
     "metadata": {},
     "output_type": "execute_result"
    }
   ],
   "source": [
    "evenoddsum(lst)"
   ]
  },
  {
   "cell_type": "code",
   "execution_count": 97,
   "id": "753ad9bd",
   "metadata": {},
   "outputs": [
    {
     "data": {
      "text/plain": [
       "[1, 2, 3, 4, 5, 6, 7, 8, 9, 10]"
      ]
     },
     "execution_count": 97,
     "metadata": {},
     "output_type": "execute_result"
    }
   ],
   "source": [
    "lst"
   ]
  },
  {
   "cell_type": "code",
   "execution_count": 98,
   "id": "733d98ba",
   "metadata": {},
   "outputs": [],
   "source": [
    "def evenodd (lst):\n",
    "    evensum = 0\n",
    "    oddsum = 0\n",
    "    for i in lst:\n",
    "        if i%2 == 0:\n",
    "            evensum = evensum + i\n",
    "        else:\n",
    "            oddsum = oddsum + i\n",
    "    return evensum, oddsum"
   ]
  },
  {
   "cell_type": "code",
   "execution_count": 100,
   "id": "86914439",
   "metadata": {},
   "outputs": [
    {
     "data": {
      "text/plain": [
       "(30, 25)"
      ]
     },
     "execution_count": 100,
     "metadata": {},
     "output_type": "execute_result"
    }
   ],
   "source": [
    "evenodd(lst)"
   ]
  },
  {
   "cell_type": "code",
   "execution_count": null,
   "id": "6152937d",
   "metadata": {},
   "outputs": [],
   "source": []
  }
 ],
 "metadata": {
  "kernelspec": {
   "display_name": "Python 3 (ipykernel)",
   "language": "python",
   "name": "python3"
  },
  "language_info": {
   "codemirror_mode": {
    "name": "ipython",
    "version": 3
   },
   "file_extension": ".py",
   "mimetype": "text/x-python",
   "name": "python",
   "nbconvert_exporter": "python",
   "pygments_lexer": "ipython3",
   "version": "3.9.7"
  }
 },
 "nbformat": 4,
 "nbformat_minor": 5
}
