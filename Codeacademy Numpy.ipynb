{
 "cells": [
  {
   "cell_type": "markdown",
   "id": "741bfe49",
   "metadata": {},
   "source": [
    "## Working with NumPy\n",
    "NumPy is great at storing and manipulating numerical data in arrays."
   ]
  },
  {
   "cell_type": "markdown",
   "id": "4f166453",
   "metadata": {},
   "source": [
    "## What is Numpy?\n",
    "\n",
    "NumPy is a general-purpose array-processing package. It provides a high-performance multidimensional array object, and tools for working with these arrays. It is the fundamental package for scientific computing with Python\n",
    "\n",
    "## What is an array?\n",
    "\n",
    "An array is a data structure that stores values of same data type. In Python, this is the main difference between arrays and lists. While python lists can contain values corresponding to different data types, arrays in python can only contain values corresponding to same data type"
   ]
  },
  {
   "cell_type": "markdown",
   "id": "3366e73c",
   "metadata": {},
   "source": [
    "Let's take a look at an example.\n",
    "\n",
    "Twice Charred in a fictional (mostly) movie review site where four good friends and movie reviewers, \n",
    "Lorie, Marty, Tori, and Kurtz watch movies and give them ratings on a scale of 0 to 100."
   ]
  },
  {
   "cell_type": "code",
   "execution_count": 2,
   "id": "fce068f8",
   "metadata": {},
   "outputs": [],
   "source": [
    "import numpy as np"
   ]
  },
  {
   "cell_type": "markdown",
   "id": "31588e2d",
   "metadata": {},
   "source": [
    "when the gang rates a movie, we can store their ratings in a Numpy array \"movie_ratings\""
   ]
  },
  {
   "cell_type": "code",
   "execution_count": 3,
   "id": "8855a1ee",
   "metadata": {},
   "outputs": [],
   "source": [
    "movie_ratings = np.array([63.0, 54.0, 70.0, 50.0])"
   ]
  },
  {
   "cell_type": "markdown",
   "id": "0e98638f",
   "metadata": {},
   "source": [
    "But they see more than one movie, so we have to create a 2-dimensional array where each row is their ratings for a specific movie."
   ]
  },
  {
   "cell_type": "code",
   "execution_count": 4,
   "id": "1223c7f3",
   "metadata": {},
   "outputs": [],
   "source": [
    "movie_ratings = np.array([[63.0, 54.0, 70.0, 50.0],\n",
    "                          [94.0, 85.0, 89.0, 95.0],\n",
    "                          [64.0, 90.0, 73.0, 85.0]])"
   ]
  },
  {
   "cell_type": "markdown",
   "id": "e0d74f91",
   "metadata": {},
   "source": [
    "Some fans prefer to have the movies rated on a five star scale, so we can use NumPy to easily divide each element by 20."
   ]
  },
  {
   "cell_type": "code",
   "execution_count": 6,
   "id": "c564baee",
   "metadata": {},
   "outputs": [],
   "source": [
    "movie_rating_stars = movie_ratings / 20"
   ]
  },
  {
   "cell_type": "code",
   "execution_count": 9,
   "id": "d9032ea7",
   "metadata": {},
   "outputs": [
    {
     "data": {
      "text/plain": [
       "array([[3.15, 2.7 , 3.5 , 2.5 ],\n",
       "       [4.7 , 4.25, 4.45, 4.75],\n",
       "       [3.2 , 4.5 , 3.65, 4.25]])"
      ]
     },
     "execution_count": 9,
     "metadata": {},
     "output_type": "execute_result"
    }
   ],
   "source": [
    "movie_rating_stars"
   ]
  },
  {
   "cell_type": "markdown",
   "id": "b76e4823",
   "metadata": {},
   "source": [
    "Now let's say the ratings are always in the same order (Lorie, Marty, Tori, Kurtz) if we wanted to create an array that only had Tori's ratings, we could select that from our movie_ratings array."
   ]
  },
  {
   "cell_type": "code",
   "execution_count": 12,
   "id": "5f12d913",
   "metadata": {},
   "outputs": [
    {
     "data": {
      "text/plain": [
       "array([3.5 , 4.45, 3.65])"
      ]
     },
     "execution_count": 12,
     "metadata": {},
     "output_type": "execute_result"
    }
   ],
   "source": [
    "tori_ratings = movie_rating_stars[:,2]\n",
    "tori_ratings"
   ]
  },
  {
   "cell_type": "code",
   "execution_count": 14,
   "id": "b55dcabc",
   "metadata": {},
   "outputs": [
    {
     "data": {
      "text/plain": [
       "array([[3.15],\n",
       "       [4.7 ],\n",
       "       [3.2 ]])"
      ]
     },
     "execution_count": 14,
     "metadata": {},
     "output_type": "execute_result"
    }
   ],
   "source": [
    "lorie_ratings = movie_rating_stars[:, :1]\n",
    "lorie_ratings"
   ]
  },
  {
   "cell_type": "markdown",
   "id": "0caf4c7b",
   "metadata": {},
   "source": [
    "Now, say we find that we have very similar taste to Marty, so we only want to see movies that he gives a good rating to, we can use logic to select those movies.\n",
    "\n",
    "Let's select all of Marty's ratings that are over 80:"
   ]
  },
  {
   "cell_type": "code",
   "execution_count": 15,
   "id": "3ad2abbd",
   "metadata": {},
   "outputs": [
    {
     "data": {
      "text/plain": [
       "array([85., 90.])"
      ]
     },
     "execution_count": 15,
     "metadata": {},
     "output_type": "execute_result"
    }
   ],
   "source": [
    "martys_ratings = movie_ratings[:,1:2]\n",
    "martys_ratings[martys_ratings > 80]"
   ]
  },
  {
   "cell_type": "markdown",
   "id": "05e44c6c",
   "metadata": {},
   "source": [
    "## NumPy Arrays\n",
    "NumPy includes a powerful data structure known as an array. A NumPy array is a special type of list. It’s a data structure that organizes multiple items. Each item can be of any type (strings, numbers, or even other arrays).\n",
    "\n",
    "Arrays are most powerful when they are used to store numbers. This is because arrays give us special ways of performing mathematical operations that are both simpler to write and more efficient computationally. We’ll get more into this later.\n",
    "\n",
    "A NumPy array looks a lot like a Python list:"
   ]
  },
  {
   "cell_type": "code",
   "execution_count": 17,
   "id": "30cebdcc",
   "metadata": {},
   "outputs": [],
   "source": [
    "my_list = [1, 2, 3, 4, 5, 6]"
   ]
  },
  {
   "cell_type": "code",
   "execution_count": 20,
   "id": "44c7ae7a",
   "metadata": {},
   "outputs": [],
   "source": [
    "my_array = np.array(my_list)"
   ]
  },
  {
   "cell_type": "code",
   "execution_count": 21,
   "id": "2e409a0b",
   "metadata": {},
   "outputs": [
    {
     "data": {
      "text/plain": [
       "array([1, 2, 3, 4, 5, 6])"
      ]
     },
     "execution_count": 21,
     "metadata": {},
     "output_type": "execute_result"
    }
   ],
   "source": [
    "my_array"
   ]
  },
  {
   "cell_type": "markdown",
   "id": "0c1548d0",
   "metadata": {},
   "source": [
    "Imagine you’re a teacher and you need to keep track of your student’s test scores. On the first test, the students received the following scores:\n",
    "\n",
    "92, 94, 88, 91, 87\n",
    "\n",
    "Create a NumPy array with these values and save it with the name test_1."
   ]
  },
  {
   "cell_type": "code",
   "execution_count": 23,
   "id": "90f071bf",
   "metadata": {},
   "outputs": [],
   "source": [
    "test_1 = [92, 94, 88, 91, 87]"
   ]
  },
  {
   "cell_type": "code",
   "execution_count": 25,
   "id": "73d97f8f",
   "metadata": {},
   "outputs": [
    {
     "data": {
      "text/plain": [
       "array([92, 94, 88, 91, 87])"
      ]
     },
     "execution_count": 25,
     "metadata": {},
     "output_type": "execute_result"
    }
   ],
   "source": [
    "test_1 = np.array(test_1)\n",
    "test_1"
   ]
  },
  {
   "cell_type": "code",
   "execution_count": null,
   "id": "17eaa8be",
   "metadata": {},
   "outputs": [],
   "source": []
  },
  {
   "cell_type": "code",
   "execution_count": null,
   "id": "8c36e9ca",
   "metadata": {},
   "outputs": [],
   "source": []
  }
 ],
 "metadata": {
  "kernelspec": {
   "display_name": "Python 3 (ipykernel)",
   "language": "python",
   "name": "python3"
  },
  "language_info": {
   "codemirror_mode": {
    "name": "ipython",
    "version": 3
   },
   "file_extension": ".py",
   "mimetype": "text/x-python",
   "name": "python",
   "nbconvert_exporter": "python",
   "pygments_lexer": "ipython3",
   "version": "3.9.7"
  }
 },
 "nbformat": 4,
 "nbformat_minor": 5
}
