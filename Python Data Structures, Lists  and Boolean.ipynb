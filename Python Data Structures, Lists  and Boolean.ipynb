{
 "cells": [
  {
   "cell_type": "code",
   "execution_count": 2,
   "id": "daf2e03c",
   "metadata": {},
   "outputs": [
    {
     "data": {
      "text/plain": [
       "bool"
      ]
     },
     "execution_count": 2,
     "metadata": {},
     "output_type": "execute_result"
    }
   ],
   "source": [
    "type(True)"
   ]
  },
  {
   "cell_type": "code",
   "execution_count": 3,
   "id": "cb66b6b9",
   "metadata": {},
   "outputs": [
    {
     "data": {
      "text/plain": [
       "bool"
      ]
     },
     "execution_count": 3,
     "metadata": {},
     "output_type": "execute_result"
    }
   ],
   "source": [
    "type(False)"
   ]
  },
  {
   "cell_type": "code",
   "execution_count": 4,
   "id": "613cde68",
   "metadata": {},
   "outputs": [],
   "source": [
    "name = 'Suhail123'"
   ]
  },
  {
   "cell_type": "code",
   "execution_count": 5,
   "id": "ab9e4eaa",
   "metadata": {},
   "outputs": [
    {
     "data": {
      "text/plain": [
       "str"
      ]
     },
     "execution_count": 5,
     "metadata": {},
     "output_type": "execute_result"
    }
   ],
   "source": [
    "type(name)"
   ]
  },
  {
   "cell_type": "code",
   "execution_count": 6,
   "id": "e4da56ce",
   "metadata": {},
   "outputs": [
    {
     "data": {
      "text/plain": [
       "True"
      ]
     },
     "execution_count": 6,
     "metadata": {},
     "output_type": "execute_result"
    }
   ],
   "source": [
    "name.istitle()"
   ]
  },
  {
   "cell_type": "code",
   "execution_count": 7,
   "id": "fe17d18b",
   "metadata": {},
   "outputs": [
    {
     "data": {
      "text/plain": [
       "False"
      ]
     },
     "execution_count": 7,
     "metadata": {},
     "output_type": "execute_result"
    }
   ],
   "source": [
    "name.isupper()"
   ]
  },
  {
   "cell_type": "code",
   "execution_count": 8,
   "id": "18e6d526",
   "metadata": {},
   "outputs": [
    {
     "data": {
      "text/plain": [
       "False"
      ]
     },
     "execution_count": 8,
     "metadata": {},
     "output_type": "execute_result"
    }
   ],
   "source": [
    "name.islower()"
   ]
  },
  {
   "cell_type": "code",
   "execution_count": 9,
   "id": "8db516a6",
   "metadata": {},
   "outputs": [
    {
     "data": {
      "text/plain": [
       "False"
      ]
     },
     "execution_count": 9,
     "metadata": {},
     "output_type": "execute_result"
    }
   ],
   "source": [
    "name.isdigit()"
   ]
  },
  {
   "cell_type": "code",
   "execution_count": 10,
   "id": "7616517d",
   "metadata": {},
   "outputs": [
    {
     "data": {
      "text/plain": [
       "False"
      ]
     },
     "execution_count": 10,
     "metadata": {},
     "output_type": "execute_result"
    }
   ],
   "source": [
    "name.isalpha()"
   ]
  },
  {
   "cell_type": "code",
   "execution_count": 11,
   "id": "95539d0e",
   "metadata": {},
   "outputs": [
    {
     "data": {
      "text/plain": [
       "True"
      ]
     },
     "execution_count": 11,
     "metadata": {},
     "output_type": "execute_result"
    }
   ],
   "source": [
    "name.isalnum()"
   ]
  },
  {
   "cell_type": "code",
   "execution_count": 12,
   "id": "a6b29b5c",
   "metadata": {},
   "outputs": [
    {
     "data": {
      "text/plain": [
       "'Suhail123'"
      ]
     },
     "execution_count": 12,
     "metadata": {},
     "output_type": "execute_result"
    }
   ],
   "source": [
    "name"
   ]
  },
  {
   "cell_type": "code",
   "execution_count": 13,
   "id": "949fb0fa",
   "metadata": {},
   "outputs": [
    {
     "data": {
      "text/plain": [
       "False"
      ]
     },
     "execution_count": 13,
     "metadata": {},
     "output_type": "execute_result"
    }
   ],
   "source": [
    "name.isspace()"
   ]
  },
  {
   "cell_type": "code",
   "execution_count": 14,
   "id": "dba1497e",
   "metadata": {},
   "outputs": [
    {
     "data": {
      "text/plain": [
       "False"
      ]
     },
     "execution_count": 14,
     "metadata": {},
     "output_type": "execute_result"
    }
   ],
   "source": [
    "name.endswith('s')"
   ]
  },
  {
   "cell_type": "code",
   "execution_count": 15,
   "id": "d1d95a75",
   "metadata": {},
   "outputs": [
    {
     "data": {
      "text/plain": [
       "False"
      ]
     },
     "execution_count": 15,
     "metadata": {},
     "output_type": "execute_result"
    }
   ],
   "source": [
    "name.startswith('s')"
   ]
  },
  {
   "cell_type": "code",
   "execution_count": 16,
   "id": "6257feae",
   "metadata": {},
   "outputs": [
    {
     "data": {
      "text/plain": [
       "True"
      ]
     },
     "execution_count": 16,
     "metadata": {},
     "output_type": "execute_result"
    }
   ],
   "source": [
    "name.startswith(\"S\")"
   ]
  },
  {
   "cell_type": "code",
   "execution_count": 17,
   "id": "b5f158d9",
   "metadata": {},
   "outputs": [
    {
     "data": {
      "text/plain": [
       "True"
      ]
     },
     "execution_count": 17,
     "metadata": {},
     "output_type": "execute_result"
    }
   ],
   "source": [
    "True and True"
   ]
  },
  {
   "cell_type": "code",
   "execution_count": 18,
   "id": "8899ac6c",
   "metadata": {},
   "outputs": [
    {
     "data": {
      "text/plain": [
       "False"
      ]
     },
     "execution_count": 18,
     "metadata": {},
     "output_type": "execute_result"
    }
   ],
   "source": [
    "True and False"
   ]
  },
  {
   "cell_type": "code",
   "execution_count": 19,
   "id": "6217d20d",
   "metadata": {},
   "outputs": [
    {
     "data": {
      "text/plain": [
       "False"
      ]
     },
     "execution_count": 19,
     "metadata": {},
     "output_type": "execute_result"
    }
   ],
   "source": [
    "False and False"
   ]
  },
  {
   "cell_type": "code",
   "execution_count": 20,
   "id": "3c36c022",
   "metadata": {},
   "outputs": [
    {
     "data": {
      "text/plain": [
       "True"
      ]
     },
     "execution_count": 20,
     "metadata": {},
     "output_type": "execute_result"
    }
   ],
   "source": [
    "True and True"
   ]
  },
  {
   "cell_type": "code",
   "execution_count": 21,
   "id": "8793ce37",
   "metadata": {},
   "outputs": [
    {
     "data": {
      "text/plain": [
       "True"
      ]
     },
     "execution_count": 21,
     "metadata": {},
     "output_type": "execute_result"
    }
   ],
   "source": [
    "True or True"
   ]
  },
  {
   "cell_type": "code",
   "execution_count": 22,
   "id": "4b7cb287",
   "metadata": {},
   "outputs": [
    {
     "data": {
      "text/plain": [
       "True"
      ]
     },
     "execution_count": 22,
     "metadata": {},
     "output_type": "execute_result"
    }
   ],
   "source": [
    "True or False "
   ]
  },
  {
   "cell_type": "code",
   "execution_count": 23,
   "id": "0582fd30",
   "metadata": {},
   "outputs": [
    {
     "data": {
      "text/plain": [
       "9"
      ]
     },
     "execution_count": 23,
     "metadata": {},
     "output_type": "execute_result"
    }
   ],
   "source": [
    "len(name)"
   ]
  },
  {
   "cell_type": "code",
   "execution_count": 24,
   "id": "a823a1e3",
   "metadata": {},
   "outputs": [
    {
     "data": {
      "text/plain": [
       "str"
      ]
     },
     "execution_count": 24,
     "metadata": {},
     "output_type": "execute_result"
    }
   ],
   "source": [
    "type(name)"
   ]
  },
  {
   "cell_type": "markdown",
   "id": "4d9b7f18",
   "metadata": {},
   "source": [
    "## List"
   ]
  },
  {
   "cell_type": "code",
   "execution_count": 25,
   "id": "2f4cafe7",
   "metadata": {},
   "outputs": [
    {
     "data": {
      "text/plain": [
       "list"
      ]
     },
     "execution_count": 25,
     "metadata": {},
     "output_type": "execute_result"
    }
   ],
   "source": [
    "type([])"
   ]
  },
  {
   "cell_type": "code",
   "execution_count": 26,
   "id": "6e0fe7ac",
   "metadata": {},
   "outputs": [],
   "source": [
    "listexmple = []"
   ]
  },
  {
   "cell_type": "code",
   "execution_count": 27,
   "id": "55a8d052",
   "metadata": {},
   "outputs": [
    {
     "data": {
      "text/plain": [
       "list"
      ]
     },
     "execution_count": 27,
     "metadata": {},
     "output_type": "execute_result"
    }
   ],
   "source": [
    "type(listexmple)"
   ]
  },
  {
   "cell_type": "code",
   "execution_count": 28,
   "id": "a3cd069c",
   "metadata": {},
   "outputs": [],
   "source": [
    "lst = list()"
   ]
  },
  {
   "cell_type": "code",
   "execution_count": 29,
   "id": "5b208bcd",
   "metadata": {},
   "outputs": [
    {
     "data": {
      "text/plain": [
       "[]"
      ]
     },
     "execution_count": 29,
     "metadata": {},
     "output_type": "execute_result"
    }
   ],
   "source": [
    "lst"
   ]
  },
  {
   "cell_type": "code",
   "execution_count": 30,
   "id": "81275a5b",
   "metadata": {},
   "outputs": [
    {
     "data": {
      "text/plain": [
       "list"
      ]
     },
     "execution_count": 30,
     "metadata": {},
     "output_type": "execute_result"
    }
   ],
   "source": [
    "type(lst)"
   ]
  },
  {
   "cell_type": "code",
   "execution_count": 31,
   "id": "0a39318d",
   "metadata": {},
   "outputs": [],
   "source": [
    "lst = ['Suhail', 'Lenovo', 700 , 123]"
   ]
  },
  {
   "cell_type": "code",
   "execution_count": 32,
   "id": "6eefb316",
   "metadata": {},
   "outputs": [
    {
     "data": {
      "text/plain": [
       "['Suhail', 'Lenovo', 700, 123]"
      ]
     },
     "execution_count": 32,
     "metadata": {},
     "output_type": "execute_result"
    }
   ],
   "source": [
    "lst"
   ]
  },
  {
   "cell_type": "markdown",
   "id": "a2f8a68b",
   "metadata": {},
   "source": [
    "## Append"
   ]
  },
  {
   "cell_type": "code",
   "execution_count": 33,
   "id": "449dfac5",
   "metadata": {},
   "outputs": [],
   "source": [
    "lst.append('Avatar')"
   ]
  },
  {
   "cell_type": "code",
   "execution_count": 34,
   "id": "0262c512",
   "metadata": {},
   "outputs": [
    {
     "data": {
      "text/plain": [
       "['Suhail', 'Lenovo', 700, 123, 'Avatar']"
      ]
     },
     "execution_count": 34,
     "metadata": {},
     "output_type": "execute_result"
    }
   ],
   "source": [
    "lst"
   ]
  },
  {
   "cell_type": "code",
   "execution_count": 35,
   "id": "ccd9cd76",
   "metadata": {},
   "outputs": [],
   "source": [
    "lst.extend('abc')"
   ]
  },
  {
   "cell_type": "code",
   "execution_count": 36,
   "id": "5bba4d25",
   "metadata": {},
   "outputs": [
    {
     "data": {
      "text/plain": [
       "['Suhail', 'Lenovo', 700, 123, 'Avatar', 'a', 'b', 'c']"
      ]
     },
     "execution_count": 36,
     "metadata": {},
     "output_type": "execute_result"
    }
   ],
   "source": [
    "lst"
   ]
  },
  {
   "cell_type": "code",
   "execution_count": 37,
   "id": "1cbc89f8",
   "metadata": {},
   "outputs": [],
   "source": [
    "lst.extend('123')"
   ]
  },
  {
   "cell_type": "code",
   "execution_count": 38,
   "id": "fa9545fc",
   "metadata": {},
   "outputs": [
    {
     "data": {
      "text/plain": [
       "['Suhail', 'Lenovo', 700, 123, 'Avatar', 'a', 'b', 'c', '1', '2', '3']"
      ]
     },
     "execution_count": 38,
     "metadata": {},
     "output_type": "execute_result"
    }
   ],
   "source": [
    "lst"
   ]
  },
  {
   "cell_type": "markdown",
   "id": "764325ee",
   "metadata": {},
   "source": [
    "## Insert"
   ]
  },
  {
   "cell_type": "code",
   "execution_count": 39,
   "id": "064f5244",
   "metadata": {},
   "outputs": [],
   "source": [
    "lst.insert(0,'Fazal')"
   ]
  },
  {
   "cell_type": "code",
   "execution_count": 40,
   "id": "6d9da380",
   "metadata": {},
   "outputs": [
    {
     "data": {
      "text/plain": [
       "['Fazal', 'Suhail', 'Lenovo', 700, 123, 'Avatar', 'a', 'b', 'c', '1', '2', '3']"
      ]
     },
     "execution_count": 40,
     "metadata": {},
     "output_type": "execute_result"
    }
   ],
   "source": [
    "lst"
   ]
  },
  {
   "cell_type": "code",
   "execution_count": 41,
   "id": "e576b252",
   "metadata": {},
   "outputs": [],
   "source": [
    "lst.insert(1,'abc')"
   ]
  },
  {
   "cell_type": "code",
   "execution_count": 42,
   "id": "4521dfd3",
   "metadata": {},
   "outputs": [
    {
     "data": {
      "text/plain": [
       "['Fazal',\n",
       " 'abc',\n",
       " 'Suhail',\n",
       " 'Lenovo',\n",
       " 700,\n",
       " 123,\n",
       " 'Avatar',\n",
       " 'a',\n",
       " 'b',\n",
       " 'c',\n",
       " '1',\n",
       " '2',\n",
       " '3']"
      ]
     },
     "execution_count": 42,
     "metadata": {},
     "output_type": "execute_result"
    }
   ],
   "source": [
    "lst"
   ]
  },
  {
   "cell_type": "code",
   "execution_count": 45,
   "id": "910f96d7",
   "metadata": {},
   "outputs": [],
   "source": [
    "lst.append(['Hello', \"World\"])"
   ]
  },
  {
   "cell_type": "code",
   "execution_count": 46,
   "id": "a27575dd",
   "metadata": {},
   "outputs": [
    {
     "data": {
      "text/plain": [
       "['Fazal',\n",
       " 'abc',\n",
       " 'Suhail',\n",
       " 'Lenovo',\n",
       " 700,\n",
       " 123,\n",
       " 'Avatar',\n",
       " 'a',\n",
       " 'b',\n",
       " 'c',\n",
       " '1',\n",
       " '2',\n",
       " '3',\n",
       " ['Hello', 'World']]"
      ]
     },
     "execution_count": 46,
     "metadata": {},
     "output_type": "execute_result"
    }
   ],
   "source": [
    "lst"
   ]
  },
  {
   "cell_type": "code",
   "execution_count": 47,
   "id": "7c0568e9",
   "metadata": {},
   "outputs": [],
   "source": [
    "lst = [1,2,3,4,5]"
   ]
  },
  {
   "cell_type": "code",
   "execution_count": 48,
   "id": "b07a0157",
   "metadata": {},
   "outputs": [
    {
     "data": {
      "text/plain": [
       "[1, 2, 3, 4, 5]"
      ]
     },
     "execution_count": 48,
     "metadata": {},
     "output_type": "execute_result"
    }
   ],
   "source": [
    "lst"
   ]
  },
  {
   "cell_type": "code",
   "execution_count": 49,
   "id": "ac6d4ffd",
   "metadata": {},
   "outputs": [
    {
     "data": {
      "text/plain": [
       "15"
      ]
     },
     "execution_count": 49,
     "metadata": {},
     "output_type": "execute_result"
    }
   ],
   "source": [
    "sum(lst)"
   ]
  },
  {
   "cell_type": "code",
   "execution_count": 50,
   "id": "a9bf7de2",
   "metadata": {},
   "outputs": [
    {
     "data": {
      "text/plain": [
       "[1, 2, 3, 4, 5, 1, 2, 3, 4, 5, 1, 2, 3, 4, 5, 1, 2, 3, 4, 5, 1, 2, 3, 4, 5]"
      ]
     },
     "execution_count": 50,
     "metadata": {},
     "output_type": "execute_result"
    }
   ],
   "source": [
    "lst*5"
   ]
  },
  {
   "cell_type": "code",
   "execution_count": 51,
   "id": "95cbde4b",
   "metadata": {},
   "outputs": [
    {
     "data": {
      "text/plain": [
       "[1, 2, 3, 4, 5]"
      ]
     },
     "execution_count": 51,
     "metadata": {},
     "output_type": "execute_result"
    }
   ],
   "source": [
    "lst*1"
   ]
  },
  {
   "cell_type": "markdown",
   "id": "7d85fa83",
   "metadata": {},
   "source": [
    "## Pop Method"
   ]
  },
  {
   "cell_type": "code",
   "execution_count": 52,
   "id": "3b4da664",
   "metadata": {},
   "outputs": [
    {
     "data": {
      "text/plain": [
       "5"
      ]
     },
     "execution_count": 52,
     "metadata": {},
     "output_type": "execute_result"
    }
   ],
   "source": [
    "lst.pop()"
   ]
  },
  {
   "cell_type": "code",
   "execution_count": 53,
   "id": "cde6c823",
   "metadata": {},
   "outputs": [
    {
     "data": {
      "text/plain": [
       "[1, 2, 3, 4]"
      ]
     },
     "execution_count": 53,
     "metadata": {},
     "output_type": "execute_result"
    }
   ],
   "source": [
    "lst"
   ]
  },
  {
   "cell_type": "code",
   "execution_count": 55,
   "id": "035600a0",
   "metadata": {},
   "outputs": [
    {
     "data": {
      "text/plain": [
       "1"
      ]
     },
     "execution_count": 55,
     "metadata": {},
     "output_type": "execute_result"
    }
   ],
   "source": [
    "lst.pop(0)"
   ]
  },
  {
   "cell_type": "code",
   "execution_count": 56,
   "id": "1996b258",
   "metadata": {},
   "outputs": [
    {
     "data": {
      "text/plain": [
       "[2, 3, 4]"
      ]
     },
     "execution_count": 56,
     "metadata": {},
     "output_type": "execute_result"
    }
   ],
   "source": [
    "lst"
   ]
  },
  {
   "cell_type": "code",
   "execution_count": 58,
   "id": "8ca0fe47",
   "metadata": {},
   "outputs": [],
   "source": [
    "lst.append(1)"
   ]
  },
  {
   "cell_type": "code",
   "execution_count": 59,
   "id": "cf0bb07a",
   "metadata": {},
   "outputs": [
    {
     "data": {
      "text/plain": [
       "[2, 3, 4, 1]"
      ]
     },
     "execution_count": 59,
     "metadata": {},
     "output_type": "execute_result"
    }
   ],
   "source": [
    "lst"
   ]
  },
  {
   "cell_type": "code",
   "execution_count": 60,
   "id": "f0320709",
   "metadata": {},
   "outputs": [],
   "source": [
    "lst.append(1)"
   ]
  },
  {
   "cell_type": "code",
   "execution_count": 61,
   "id": "73eb3086",
   "metadata": {},
   "outputs": [
    {
     "data": {
      "text/plain": [
       "[2, 3, 4, 1, 1]"
      ]
     },
     "execution_count": 61,
     "metadata": {},
     "output_type": "execute_result"
    }
   ],
   "source": [
    "lst"
   ]
  },
  {
   "cell_type": "code",
   "execution_count": 64,
   "id": "92a90895",
   "metadata": {},
   "outputs": [
    {
     "data": {
      "text/plain": [
       "2"
      ]
     },
     "execution_count": 64,
     "metadata": {},
     "output_type": "execute_result"
    }
   ],
   "source": [
    "lst.count(1)"
   ]
  },
  {
   "cell_type": "markdown",
   "id": "0525ae83",
   "metadata": {},
   "source": [
    "## count():Calculates total occurrence of given element of List"
   ]
  },
  {
   "cell_type": "code",
   "execution_count": 1,
   "id": "45be5569",
   "metadata": {},
   "outputs": [],
   "source": [
    "lst = [1,1,2,3,4,5]"
   ]
  },
  {
   "cell_type": "code",
   "execution_count": 2,
   "id": "c28bdfd3",
   "metadata": {},
   "outputs": [
    {
     "data": {
      "text/plain": [
       "[1, 1, 2, 3, 4, 5]"
      ]
     },
     "execution_count": 2,
     "metadata": {},
     "output_type": "execute_result"
    }
   ],
   "source": [
    "lst"
   ]
  },
  {
   "cell_type": "code",
   "execution_count": 4,
   "id": "857ea183",
   "metadata": {},
   "outputs": [
    {
     "data": {
      "text/plain": [
       "2"
      ]
     },
     "execution_count": 4,
     "metadata": {},
     "output_type": "execute_result"
    }
   ],
   "source": [
    "lst.count(1)"
   ]
  },
  {
   "cell_type": "code",
   "execution_count": 5,
   "id": "f6ebd7a3",
   "metadata": {},
   "outputs": [
    {
     "data": {
      "text/plain": [
       "1"
      ]
     },
     "execution_count": 5,
     "metadata": {},
     "output_type": "execute_result"
    }
   ],
   "source": [
    "lst.count(2)"
   ]
  },
  {
   "cell_type": "code",
   "execution_count": 6,
   "id": "048d4d3b",
   "metadata": {},
   "outputs": [
    {
     "data": {
      "text/plain": [
       "6"
      ]
     },
     "execution_count": 6,
     "metadata": {},
     "output_type": "execute_result"
    }
   ],
   "source": [
    "len(lst)"
   ]
  },
  {
   "cell_type": "code",
   "execution_count": 9,
   "id": "c6aba81f",
   "metadata": {},
   "outputs": [
    {
     "data": {
      "text/plain": [
       "0"
      ]
     },
     "execution_count": 9,
     "metadata": {},
     "output_type": "execute_result"
    }
   ],
   "source": [
    "lst.index(1)"
   ]
  },
  {
   "cell_type": "code",
   "execution_count": 11,
   "id": "eb1bc229",
   "metadata": {},
   "outputs": [
    {
     "data": {
      "text/plain": [
       "2"
      ]
     },
     "execution_count": 11,
     "metadata": {},
     "output_type": "execute_result"
    }
   ],
   "source": [
    "lst.index(2)"
   ]
  },
  {
   "cell_type": "code",
   "execution_count": 14,
   "id": "0a6e6448",
   "metadata": {},
   "outputs": [
    {
     "data": {
      "text/plain": [
       "0"
      ]
     },
     "execution_count": 14,
     "metadata": {},
     "output_type": "execute_result"
    }
   ],
   "source": [
    "lst.index(1,0,2)"
   ]
  },
  {
   "cell_type": "code",
   "execution_count": 15,
   "id": "457c0567",
   "metadata": {},
   "outputs": [
    {
     "data": {
      "text/plain": [
       "2"
      ]
     },
     "execution_count": 15,
     "metadata": {},
     "output_type": "execute_result"
    }
   ],
   "source": [
    "lst.index(2,0,4)"
   ]
  },
  {
   "cell_type": "code",
   "execution_count": 16,
   "id": "e2bbcfa1",
   "metadata": {},
   "outputs": [
    {
     "data": {
      "text/plain": [
       "1"
      ]
     },
     "execution_count": 16,
     "metadata": {},
     "output_type": "execute_result"
    }
   ],
   "source": [
    "min(lst)"
   ]
  },
  {
   "cell_type": "code",
   "execution_count": 17,
   "id": "c9365450",
   "metadata": {},
   "outputs": [
    {
     "data": {
      "text/plain": [
       "5"
      ]
     },
     "execution_count": 17,
     "metadata": {},
     "output_type": "execute_result"
    }
   ],
   "source": [
    "max(lst)"
   ]
  },
  {
   "cell_type": "code",
   "execution_count": 20,
   "id": "bb32f1af",
   "metadata": {},
   "outputs": [],
   "source": [
    "lst.append(7)"
   ]
  },
  {
   "cell_type": "code",
   "execution_count": 21,
   "id": "059190b8",
   "metadata": {},
   "outputs": [
    {
     "data": {
      "text/plain": [
       "[1, 1, 2, 3, 4, 5, 7]"
      ]
     },
     "execution_count": 21,
     "metadata": {},
     "output_type": "execute_result"
    }
   ],
   "source": [
    "lst"
   ]
  },
  {
   "cell_type": "code",
   "execution_count": 26,
   "id": "d6aaa7c1",
   "metadata": {},
   "outputs": [],
   "source": [
    "lst.extend([8])"
   ]
  },
  {
   "cell_type": "code",
   "execution_count": 27,
   "id": "1e6cacce",
   "metadata": {},
   "outputs": [
    {
     "data": {
      "text/plain": [
       "[1, 1, 2, 3, 4, 5, 7, 8]"
      ]
     },
     "execution_count": 27,
     "metadata": {},
     "output_type": "execute_result"
    }
   ],
   "source": [
    "lst"
   ]
  },
  {
   "cell_type": "code",
   "execution_count": 28,
   "id": "c4b39119",
   "metadata": {},
   "outputs": [],
   "source": [
    "lst.extend(['geeks', 'for' , 'geeks'])"
   ]
  },
  {
   "cell_type": "code",
   "execution_count": 29,
   "id": "82114e33",
   "metadata": {},
   "outputs": [
    {
     "data": {
      "text/plain": [
       "[1, 1, 2, 3, 4, 5, 7, 8, 'geeks', 'for', 'geeks']"
      ]
     },
     "execution_count": 29,
     "metadata": {},
     "output_type": "execute_result"
    }
   ],
   "source": [
    "lst"
   ]
  },
  {
   "cell_type": "code",
   "execution_count": 31,
   "id": "07265a92",
   "metadata": {},
   "outputs": [],
   "source": [
    "lst.extend('11')"
   ]
  },
  {
   "cell_type": "code",
   "execution_count": 32,
   "id": "21d48806",
   "metadata": {},
   "outputs": [
    {
     "data": {
      "text/plain": [
       "[1, 1, 2, 3, 4, 5, 7, 8, 'geeks', 'for', 'geeks', '1', '1']"
      ]
     },
     "execution_count": 32,
     "metadata": {},
     "output_type": "execute_result"
    }
   ],
   "source": [
    "lst"
   ]
  },
  {
   "cell_type": "code",
   "execution_count": 33,
   "id": "50ed9901",
   "metadata": {},
   "outputs": [],
   "source": [
    "lst.append(12)"
   ]
  },
  {
   "cell_type": "code",
   "execution_count": 34,
   "id": "48e80957",
   "metadata": {},
   "outputs": [
    {
     "data": {
      "text/plain": [
       "[1, 1, 2, 3, 4, 5, 7, 8, 'geeks', 'for', 'geeks', '1', '1', 12]"
      ]
     },
     "execution_count": 34,
     "metadata": {},
     "output_type": "execute_result"
    }
   ],
   "source": [
    "lst"
   ]
  },
  {
   "cell_type": "code",
   "execution_count": null,
   "id": "4264cf08",
   "metadata": {},
   "outputs": [],
   "source": []
  }
 ],
 "metadata": {
  "kernelspec": {
   "display_name": "Python 3 (ipykernel)",
   "language": "python",
   "name": "python3"
  },
  "language_info": {
   "codemirror_mode": {
    "name": "ipython",
    "version": 3
   },
   "file_extension": ".py",
   "mimetype": "text/x-python",
   "name": "python",
   "nbconvert_exporter": "python",
   "pygments_lexer": "ipython3",
   "version": "3.9.7"
  }
 },
 "nbformat": 4,
 "nbformat_minor": 5
}
