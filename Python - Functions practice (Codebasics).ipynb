{
 "cells": [
  {
   "cell_type": "code",
   "execution_count": 2,
   "id": "f0b34e59",
   "metadata": {},
   "outputs": [
    {
     "name": "stdout",
     "output_type": "stream",
     "text": [
      "Enter a number: 15\n",
      "Number is odd\n"
     ]
    }
   ],
   "source": [
    "num = input(\"Enter a number: \")\n",
    "num = int(num)\n",
    "if num%2==0:\n",
    "    print(\"Number is even\")\n",
    "else:\n",
    "    print(\"Number is odd\")"
   ]
  },
  {
   "cell_type": "code",
   "execution_count": 14,
   "id": "05b8c76d",
   "metadata": {},
   "outputs": [],
   "source": [
    "# 1. Write a program that asks user to enter a city name and it should tell which country the city belongs to\n",
    "\n",
    "india = [\"mumbai\", \"banglore\", \"chennai\", \"delhi\"]\n",
    "bangladesh = [\"dhaka\", \"khulna\", \"rangpur\"] "
   ]
  },
  {
   "cell_type": "code",
   "execution_count": 15,
   "id": "fae9c01e",
   "metadata": {},
   "outputs": [
    {
     "name": "stdout",
     "output_type": "stream",
     "text": [
      "Enter your city name: mumbai\n",
      "Indian\n"
     ]
    }
   ],
   "source": [
    "city = input(\"Enter your city name: \")\n",
    "if city in india:\n",
    "    print(\"Indian\")\n",
    "elif city in bangladesh:\n",
    "    print(\"Bangladesh\")\n",
    "else:\n",
    "    print(\"City and Country Unknown\")"
   ]
  },
  {
   "cell_type": "code",
   "execution_count": 16,
   "id": "7c328aff",
   "metadata": {},
   "outputs": [
    {
     "name": "stdout",
     "output_type": "stream",
     "text": [
      "Enter your city1 name: banglore\n",
      "Enter your city2 name: dhaka\n",
      "both Cities Unknown\n"
     ]
    }
   ],
   "source": [
    "# 2. Write a program that asks user to enter two cities and it tells you if they both are in same country or not. \n",
    "# For example if I enter mumbai and chennai, it will print \"Both cities are in India\" but if I enter mumbai and dhaka \n",
    "# it should print \"They don't belong to same country\"\n",
    "\n",
    "city1 = input(\"Enter your city1 name: \")\n",
    "city2 = input(\"Enter your city2 name: \")\n",
    "if city1 in india and city2 in india:\n",
    "    print(\"both cities are in India\")\n",
    "elif city1 in bangladesh and city2 in bangladesh:\n",
    "    print(\"both cities are in Bangladesh\")\n",
    "else:\n",
    "    print(\"both Cities Unknown\")"
   ]
  },
  {
   "cell_type": "code",
   "execution_count": 19,
   "id": "8d424054",
   "metadata": {},
   "outputs": [
    {
     "name": "stdout",
     "output_type": "stream",
     "text": [
      "Enter your fasting sugar level: 77\n",
      "Eat some jalebi's, your sugar level is low\n"
     ]
    }
   ],
   "source": [
    "# 3. Write a python program that can tell you if your sugar is normal or not. Normal fasting level sugar range is 80 to 100.\n",
    "# Ask user to enter his fasting sugar level\n",
    "# If it is below 80 to 100 range then print that sugar is low\n",
    "# If it is above 100 then print that it is high otherwise print that it is normal \"\"\n",
    "\n",
    "sugar = input(\"Enter your fasting sugar level: \")\n",
    "sugar = float(sugar)\n",
    "if sugar <80:\n",
    "    print(\"Eat some jalebi's, your sugar level is low\")\n",
    "elif sugar >100:\n",
    "    print(\"Your sugar level is high, stop eating jalebi's\")\n",
    "else:\n",
    "    print(\"Your sugar is normal, Relax!\")"
   ]
  },
  {
   "cell_type": "code",
   "execution_count": 20,
   "id": "3ddc9d3a",
   "metadata": {},
   "outputs": [
    {
     "name": "stdout",
     "output_type": "stream",
     "text": [
      "Enter your fasting sugar level: 99\n",
      "Your sugar is normal, Relax!\n"
     ]
    }
   ],
   "source": [
    "sugar = input(\"Enter your fasting sugar level: \")\n",
    "sugar = float(sugar)\n",
    "if sugar <80:\n",
    "    print(\"Eat some jalebi's, your sugar level is low\")\n",
    "elif sugar >100:\n",
    "    print(\"Your sugar level is high, stop eating jalebi's\")\n",
    "else:\n",
    "    print(\"Your sugar is normal, Relax!\")"
   ]
  },
  {
   "cell_type": "code",
   "execution_count": 21,
   "id": "970bef2c",
   "metadata": {},
   "outputs": [
    {
     "name": "stdout",
     "output_type": "stream",
     "text": [
      "Enter your fasting sugar level: 101\n",
      "Your sugar level is high, stop eating jalebi's\n"
     ]
    }
   ],
   "source": [
    "sugar = input(\"Enter your fasting sugar level: \")\n",
    "sugar = float(sugar)\n",
    "if sugar <80:\n",
    "    print(\"Eat some jalebi's, your sugar level is low\")\n",
    "elif sugar >100:\n",
    "    print(\"Your sugar level is high, stop eating jalebi's\")\n",
    "else:\n",
    "    print(\"Your sugar is normal, Relax!\")"
   ]
  },
  {
   "cell_type": "code",
   "execution_count": null,
   "id": "6697ba96",
   "metadata": {},
   "outputs": [],
   "source": []
  }
 ],
 "metadata": {
  "kernelspec": {
   "display_name": "Python 3 (ipykernel)",
   "language": "python",
   "name": "python3"
  },
  "language_info": {
   "codemirror_mode": {
    "name": "ipython",
    "version": 3
   },
   "file_extension": ".py",
   "mimetype": "text/x-python",
   "name": "python",
   "nbconvert_exporter": "python",
   "pygments_lexer": "ipython3",
   "version": "3.9.7"
  }
 },
 "nbformat": 4,
 "nbformat_minor": 5
}
